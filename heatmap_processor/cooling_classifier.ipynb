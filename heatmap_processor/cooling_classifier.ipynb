{
  "nbformat": 4,
  "nbformat_minor": 0,
  "metadata": {
    "colab": {
      "provenance": [],
      "gpuType": "T4"
    },
    "kernelspec": {
      "name": "python3",
      "display_name": "Python 3"
    },
    "language_info": {
      "name": "python"
    },
    "accelerator": "GPU"
  },
  "cells": [
    {
      "cell_type": "code",
      "execution_count": 4,
      "metadata": {
        "id": "1Kp6Z5xyk2tb",
        "colab": {
          "base_uri": "https://localhost:8080/"
        },
        "outputId": "822290b0-1ef0-4ef2-9704-f6810ff3b2ab"
      },
      "outputs": [
        {
          "output_type": "stream",
          "name": "stdout",
          "text": [
            "Temperature at hot-spot: 111°C, Solution Deployed: Server level cooling\n",
            "Temperature at hot-spot: 5°C, Solution Deployed: Row level cooling (Number of stacks > 3)\n",
            "Temperature at hot-spot: 1°C, Solution Deployed: Row level cooling\n",
            "Temperature at hot-spot: 138°C, Solution Deployed: Server level cooling\n",
            "Temperature at hot-spot: 104°C, Solution Deployed: Server level cooling\n",
            "Temperature at hot-spot: 112°C, Solution Deployed: Server level cooling\n",
            "Temperature at hot-spot: 97°C, Solution Deployed: Server level cooling\n",
            "Temperature at hot-spot: 17°C, Solution Deployed: Row level cooling (Number of stacks > 3)\n",
            "Temperature at hot-spot: 47°C, Solution Deployed: Row level cooling (Number of stacks > 3)\n",
            "Temperature at hot-spot: 68°C, Solution Deployed: Rack level cooling\n",
            "Temperature at hot-spot: 119°C, Solution Deployed: Server level cooling\n",
            "Temperature at hot-spot: 21°C, Solution Deployed: Row level cooling (Number of stacks > 3)\n",
            "Temperature at hot-spot: 74°C, Solution Deployed: Rack level cooling\n",
            "Temperature at hot-spot: 53°C, Solution Deployed: Rack level cooling\n",
            "Temperature at hot-spot: 66°C, Solution Deployed: Rack level cooling\n",
            "Temperature at hot-spot: 93°C, Solution Deployed: Rack level cooling\n",
            "Temperature at hot-spot: 138°C, Solution Deployed: Server level cooling\n",
            "Temperature at hot-spot: 135°C, Solution Deployed: Server level cooling\n",
            "Temperature at hot-spot: 52°C, Solution Deployed: Rack level cooling\n",
            "Temperature at hot-spot: 139°C, Solution Deployed: Server level cooling\n"
          ]
        }
      ],
      "source": [
        "import numpy as np\n",
        "from sklearn.model_selection import train_test_split\n",
        "from sklearn.tree import DecisionTreeClassifier\n",
        "\n",
        "# Generate some sample data\n",
        "temperatures = np.random.randint(1, 151, size=100).reshape(-1, 1)  # Generate 100 random temperatures between 1 and 150\n",
        "labels = []\n",
        "\n",
        "# Assign labels based on temperature ranges\n",
        "for temp in temperatures:\n",
        "    if temp <= 50:\n",
        "        labels.append(\"Row level cooling\")\n",
        "    elif temp <= 100:\n",
        "        labels.append(\"Rack level cooling\")\n",
        "    else:\n",
        "        labels.append(\"Server level cooling\")\n",
        "\n",
        "# Convert labels to numerical values\n",
        "label_dict = {\"Row level cooling\": 0, \"Rack level cooling\": 1, \"Server level cooling\": 2}\n",
        "labels = [label_dict[label] for label in labels]\n",
        "\n",
        "# Split data into train and test sets\n",
        "X_train, X_test, y_train, y_test = train_test_split(temperatures, labels, test_size=0.2, random_state=42)\n",
        "\n",
        "# Train decision tree classifier\n",
        "clf = DecisionTreeClassifier()\n",
        "clf.fit(X_train, y_train)\n",
        "\n",
        "# Predict on test data\n",
        "predictions = clf.predict(X_test)\n",
        "\n",
        "# Convert numerical predictions back to labels\n",
        "inv_label_dict = {v: k for k, v in label_dict.items()}\n",
        "predicted_labels = [inv_label_dict[prediction] for prediction in predictions]\n",
        "\n",
        "# Print some predictions\n",
        "# for i in range(10):\n",
        "#     print(f\"Temperature at hot-spot: {X_test[i][0]}°C, Solution Deployed: {predicted_labels[i]}\")\n",
        "\n",
        "# Print some predictions with additional conditions\n",
        "threshold = 3  # Define the threshold for the number of stacks\n",
        "\n",
        "for i in range(len(X_test)):\n",
        "    if predicted_labels[i] == \"Row level cooling\" and X_test[i][0] > threshold:\n",
        "        print(f\"Temperature at hot-spot: {X_test[i][0]}°C, Solution Deployed: {predicted_labels[i]} (Number of stacks > {threshold})\")\n",
        "    elif predicted_labels[i] == \"Rack level cooling\" and X_test[i][0] < threshold:\n",
        "        print(f\"Temperature at hot-spot: {X_test[i][0]}°C, Solution Deployed: {predicted_labels[i]} (Number of stacks < {threshold})\")\n",
        "    else:\n",
        "        print(f\"Temperature at hot-spot: {X_test[i][0]}°C, Solution Deployed: {predicted_labels[i]}\")\n",
        "\n"
      ]
    },
    {
      "cell_type": "code",
      "source": [],
      "metadata": {
        "id": "CvWARn18l9b8"
      },
      "execution_count": null,
      "outputs": []
    }
  ]
}